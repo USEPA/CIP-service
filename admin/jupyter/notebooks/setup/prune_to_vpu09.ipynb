{
 "cells": [
  {
   "cell_type": "markdown",
   "id": "104c8c0f-690f-4c98-9984-78848a5c6824",
   "metadata": {},
   "source": [
    "## prune to vpu09"
   ]
  },
  {
   "cell_type": "code",
   "execution_count": null,
   "id": "434386c6-339d-4e41-b33e-e32dc0fd254c",
   "metadata": {},
   "outputs": [],
   "source": [
    "import os,sys,git,tempfile,psycopg2;\n",
    "from ipywidgets import IntProgress,HTML,VBox;\n",
    "from IPython.display import display;\n",
    "from contextlib import closing;\n",
    "\n",
    "sys.path.append(os.path.join(os.path.expanduser('~'),'notebooks'));\n",
    "import common;\n",
    "\n",
    "dbse = os.environ['POSTGRESQL_DB'];\n",
    "host = os.environ['POSTGRESQL_HOST'];\n",
    "port = os.environ['POSTGRESQL_PORT'];\n",
    "user = 'cipsrv';\n",
    "pasw = os.environ['POSTGRESQL_CIP_PASS'];"
   ]
  },
  {
   "cell_type": "code",
   "execution_count": null,
   "id": "b342045a-2a6b-4291-8a81-d511731c3491",
   "metadata": {},
   "outputs": [],
   "source": [
    "cs = \"dbname=%s user=%s password=%s host=%s port=%s\" % (\n",
    "     dbse\n",
    "    ,user\n",
    "    ,pasw\n",
    "    ,host\n",
    "    ,port\n",
    ");\n",
    "\n",
    "try:\n",
    "    conn = psycopg2.connect(cs);\n",
    "except:\n",
    "    raise Exception(\"database connection error\");\n",
    "\n",
    "print(\"database is ready\");"
   ]
  },
  {
   "cell_type": "code",
   "execution_count": null,
   "id": "fe594e8c-be2e-4238-a66f-6f6a2225c37e",
   "metadata": {},
   "outputs": [],
   "source": [
    "with closing(conn.cursor()) as cursor:\n",
    "    \n",
    "    # MR\n",
    "    cursor.execute(\"DELETE FROM cipsrv_epageofab_m.catchment_fabric a WHERE SUBSTR(a.vpuid,1,2) != '09'\");\n",
    "    conn.commit();   \n",
    "    cursor.execute(\"DELETE FROM cipsrv_epageofab_m.catchment_fabric_xwalk a WHERE SUBSTR(a.vpuid,1,2) != '09'\");\n",
    "    conn.commit();   \n",
    "    cursor.execute(\"\"\"DELETE FROM cipsrv_epageofab_m.catchment_fabric_huc12_np21 a WHERE SUBSTR(a.xwalk_huc12,1,2) != '09' AND a.xwalk_huc12 NOT IN (\n",
    "        SELECT b.xwalk_huc12 FROM cipsrv_epageofab_m.catchment_fabric b\n",
    "    )\"\"\");\n",
    "    cursor.execute(\"TRUNCATE TABLE cipsrv_epageofab_m.alaskacatchment'\");\n",
    "    cursor.execute(\"TRUNCATE TABLE cipsrv_epageofab_m.oceancatchment'\");\n",
    "    cursor.execute(\"DELETE FROM cipsrv_nhdplus_m.networknhdflowline    a WHERE SUBSTR(a.vpuid,1,2)     != '09'\");\n",
    "    cursor.execute(\"DELETE FROM cipsrv_nhdplus_m.nonnetworknhdflowline a WHERE SUBSTR(a.vpuid,1,2)     != '09'\");\n",
    "    cursor.execute(\"DELETE FROM cipsrv_nhdplus_m.nhdplusflow           a WHERE SUBSTR(a.fromvpuid,1,2) != '09'\");\n",
    "    conn.commit();\n",
    "    \n",
    "    # HR\n",
    "    cursor.execute(\"DELETE FROM cipsrv_epageofab_h.catchment_fabric a WHERE SUBSTR(a.vpuid,1,2) != '09'\");\n",
    "    conn.commit();   \n",
    "    cursor.execute(\"DELETE FROM cipsrv_epageofab_h.catchment_fabric_xwalk a WHERE SUBSTR(a.vpuid,1,2) != '09'\");\n",
    "    conn.commit();   \n",
    "    cursor.execute(\"\"\"DELETE FROM cipsrv_epageofab_h.catchment_fabric_huc12_np21 a WHERE SUBSTR(a.xwalk_huc12,1,2) != '09' AND a.xwalk_huc12 NOT IN (\n",
    "        SELECT b.xwalk_huc12 FROM cipsrv_epageofab_h.catchment_fabric b\n",
    "    )\"\"\");\n",
    "    cursor.execute(\"TRUNCATE TABLE cipsrv_epageofab_h.alaskacatchment'\");\n",
    "    cursor.execute(\"TRUNCATE TABLE cipsrv_epageofab_h.oceancatchment'\");\n",
    "    cursor.execute(\"DELETE FROM cipsrv_nhdplus_h.networknhdflowline    a WHERE SUBSTR(a.vpuid,1,2)     != '09'\");\n",
    "    cursor.execute(\"DELETE FROM cipsrv_nhdplus_h.nonnetworknhdflowline a WHERE SUBSTR(a.vpuid,1,2)     != '09'\");\n",
    "    cursor.execute(\"DELETE FROM cipsrv_nhdplus_h.nhdplusflow           a WHERE SUBSTR(a.fromvpuid,1,2) != '09'\");\n",
    "    conn.commit();\n",
    "\n",
    "    # Support\n",
    "    cursor.execute(\"\"\"\n",
    "       DELETE FROM cipsrv_support.tiger_aiannha_5070 a \n",
    "       WHERE NOT ST_INTERSECTS(\n",
    "           a.shape\n",
    "          ,(SELECT ST_COLLECT(b.shape) FROM cipsrv_support.tiger_fedstatewaters_5070 b WHERE b.stusps IN ('MN','ND','SD'))\n",
    "       )\"\"\");\n",
    "    conn.commit();\n",
    "    cursor.execute(\"\"\"\n",
    "        DELETE FROM cipsrv_support.tiger_aiannha a \n",
    "        WHERE NOT EXISTS (\n",
    "            SELECT 1 FROM cipsrv_support.tiger_aiannha_5070 b WHERE b.geoid = a.geoid\n",
    "        )\"\"\");\n",
    "    cursor.execute(\"TRUNCATE TABLE cipsrv_support.tiger_aiannha_3338\");\n",
    "    cursor.execute(\"TRUNCATE TABLE cipsrv_support.tiger_aiannha_26904\");\n",
    "    cursor.execute(\"TRUNCATE TABLE cipsrv_support.tiger_aiannha_32161\");\n",
    "    cursor.execute(\"TRUNCATE TABLE cipsrv_support.tiger_aiannha_32655\");\n",
    "    cursor.execute(\"TRUNCATE TABLE cipsrv_support.tiger_aiannha_32702\");\n",
    "    \n",
    "    cursor.execute(\"DELETE FROM cipsrv_support.tiger_fedstatewaters a WHERE a.stusps NOT IN ('MN','ND','SD')\");\n",
    "    cursor.execute(\"DELETE FROM cipsrv_support.tiger_fedstatewaters_5070 a WHERE a.stusps NOT IN ('MN','ND','SD')\");\n",
    "    cursor.execute(\"TRUNCATE TABLE cipsrv_support.tiger_fedstatewaters_3338\");\n",
    "    cursor.execute(\"TRUNCATE TABLE cipsrv_support.tiger_fedstatewaters_26904\");\n",
    "    cursor.execute(\"TRUNCATE TABLE cipsrv_support.tiger_fedstatewaters_32161\");\n",
    "    cursor.execute(\"TRUNCATE TABLE cipsrv_support.tiger_fedstatewaters_32655\");\n",
    "    cursor.execute(\"TRUNCATE TABLE cipsrv_support.tiger_fedstatewaters_32702\");\n",
    "    \n",
    "    cursor.execute(\"DELETE FROM cipsrv_wbd.wbd_hu12_f3     a WHERE SUBSTR(a.huc12,1,2) != '09'\");\n",
    "    cursor.execute(\"DELETE FROM cipsrv_wbd.wbd_hu12sp_f3   a WHERE SUBSTR(a.huc12,1,2) != '09'\");\n",
    "    conn.commit();\n",
    "\n",
    "    cursor.execute(\"DELETE FROM cipsrv_wbd.wbd_hu12_np21   a WHERE SUBSTR(a.huc12,1,2) != '09'\");\n",
    "    cursor.execute(\"DELETE FROM cipsrv_wbd.wbd_hu12sp_np21 a WHERE SUBSTR(a.huc12,1,2) != '09'\");\n",
    "    conn.commit();\n",
    "\n",
    "    cursor.execute(\"DELETE FROM cipsrv_wbd.wbd_hu12_nphr   a WHERE SUBSTR(a.huc12,1,2) != '09'\");\n",
    "    cursor.execute(\"DELETE FROM cipsrv_wbd.wbd_hu12sp_nphr a WHERE SUBSTR(a.huc12,1,2) != '09'\");\n",
    "    conn.commit();\n"
   ]
  },
  {
   "cell_type": "code",
   "execution_count": null,
   "id": "c8c19f41-aaaf-49bb-8ec3-1659d3fa341a",
   "metadata": {},
   "outputs": [],
   "source": [
    "conn.close();\n"
   ]
  },
  {
   "cell_type": "code",
   "execution_count": null,
   "id": "1b25220c-4281-4907-82c2-0ed939d08bc4",
   "metadata": {},
   "outputs": [],
   "source": []
  }
 ],
 "metadata": {
  "kernelspec": {
   "display_name": "Python 3 (ipykernel)",
   "language": "python",
   "name": "python3"
  },
  "language_info": {
   "codemirror_mode": {
    "name": "ipython",
    "version": 3
   },
   "file_extension": ".py",
   "mimetype": "text/x-python",
   "name": "python",
   "nbconvert_exporter": "python",
   "pygments_lexer": "ipython3",
   "version": "3.12.3"
  }
 },
 "nbformat": 4,
 "nbformat_minor": 5
}
