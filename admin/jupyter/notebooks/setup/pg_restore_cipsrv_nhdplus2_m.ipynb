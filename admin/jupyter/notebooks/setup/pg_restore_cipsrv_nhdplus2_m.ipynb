{
 "cells": [
  {
   "cell_type": "markdown",
   "metadata": {},
   "source": [
    "## pg_restore cipsrv_nhdplus2_m"
   ]
  },
  {
   "cell_type": "code",
   "execution_count": null,
   "metadata": {},
   "outputs": [],
   "source": [
    "import os,sys,psycopg2,argparse;\n",
    "from ipywidgets import IntProgress,HTML,VBox;\n",
    "from IPython.display import display;\n",
    "from contextlib import closing;\n",
    "parser = argparse.ArgumentParser();\n",
    "parser.add_argument(\"--mr2_dumpfile\"     ,required=False);\n",
    "parser.add_argument(\"--use_existing\"     ,required=False,default=False,action=argparse.BooleanOptionalAction);\n",
    "parser.add_argument(\"--override_username\",required=False);\n",
    "args, _ = parser.parse_known_args();\n",
    "\n",
    "sys.path.append(os.path.join(os.path.expanduser('~'),'notebooks'));\n",
    "import common;\n",
    "\n",
    "s3bk = os.environ['S3_BUCKET'];\n",
    "# override: s3bk = 'https://edap-ow-data-commons.s3.amazonaws.com/data/';\n",
    "lddk = os.path.join(os.path.expanduser('~'),'loading_dock');\n",
    "dbse = os.environ['POSTGRESQL_DB'];\n",
    "host = os.environ['POSTGRESQL_HOST'];\n",
    "port = os.environ['POSTGRESQL_PORT'];\n",
    "user = 'cipsrv';\n",
    "pswd = os.environ['POSTGRESQL_CIP_PASS'];\n",
    "thds = 2;\n",
    "\n",
    "component_name = 'cipsrv_nhdplus2_m';\n",
    "component_type = 'dataset';\n",
    "if args.mr2_dumpfile is None:\n",
    "   src = 'cipsrv_nhdplus2_m_1.dmp';\n",
    "else:\n",
    "   src = args.mr2_dumpfile;\n",
    "\n",
    "print(\"source: \" + s3bk);"
   ]
  },
  {
   "cell_type": "code",
   "execution_count": null,
   "metadata": {},
   "outputs": [],
   "source": [
    "if args.use_existing:\n",
    "    print(\"using existing \" + src);\n",
    "\n",
    "else:\n",
    "    z = common.download(\n",
    "        s3  = s3bk\n",
    "       ,src = src\n",
    "       ,ld  = lddk\n",
    "       ,trg = src\n",
    "    );\n",
    "\n",
    "    if not os.path.exists(os.path.join(lddk,src)):\n",
    "        raise Exception('failed to download dmp file');\n",
    "\n",
    "    print(\"successfully downloaded \" + src);\n",
    "    "
   ]
  },
  {
   "cell_type": "code",
   "execution_count": null,
   "metadata": {},
   "outputs": [],
   "source": [
    "cs = \"dbname=%s user=%s password=%s host=%s port=%s\" % (\n",
    "     dbse\n",
    "    ,user\n",
    "    ,pswd\n",
    "    ,host\n",
    "    ,port\n",
    ");\n",
    "\n",
    "try:\n",
    "    conn = psycopg2.connect(cs);\n",
    "except:\n",
    "    raise Exception(\"database connection error\");\n",
    "\n",
    "print(\"database is ready\");"
   ]
  },
  {
   "cell_type": "code",
   "execution_count": null,
   "metadata": {},
   "outputs": [],
   "source": [
    "with closing(conn.cursor()) as cursor:\n",
    "    cursor.execute(\"DROP TABLE IF EXISTS cipsrv_nhdplus_m.nhdarea             CASCADE\");\n",
    "    cursor.execute(\"DROP TABLE IF EXISTS cipsrv_nhdplus_m.nhdline             CASCADE\");\n",
    "    cursor.execute(\"DROP TABLE IF EXISTS cipsrv_nhdplus_m.nhdpluscatchmentfpp CASCADE\");\n",
    "    cursor.execute(\"DROP TABLE IF EXISTS cipsrv_nhdplus_m.nhdpluscatchmenttpp CASCADE\");\n",
    "    cursor.execute(\"DROP TABLE IF EXISTS cipsrv_nhdplus_m.nhdpluscatchmentvpp CASCADE\");\n",
    "    cursor.execute(\"DROP TABLE IF EXISTS cipsrv_nhdplus_m.nhdplussink         CASCADE\");\n",
    "    cursor.execute(\"DROP TABLE IF EXISTS cipsrv_nhdplus_m.nhdpoint            CASCADE\");\n",
    "    cursor.execute(\"DROP TABLE IF EXISTS cipsrv_nhdplus_m.nhdwaterbody        CASCADE\");\n",
    "    conn.commit();\n",
    "\n",
    "print(\"preexisting data purged.\");    "
   ]
  },
  {
   "cell_type": "code",
   "execution_count": null,
   "metadata": {},
   "outputs": [],
   "source": [
    "z = common.pg_restore(\n",
    "     host\n",
    "    ,port\n",
    "    ,dbse\n",
    "    ,user\n",
    "    ,pswd\n",
    "    ,os.path.join(lddk,src)\n",
    "    ,thds\n",
    ");\n",
    "\n",
    "print(\"pg_restore complete.\");"
   ]
  },
  {
   "cell_type": "code",
   "execution_count": null,
   "metadata": {},
   "outputs": [],
   "source": [
    "if z[0] == b'':\n",
    "    a = common.upsert_registry(conn,component_name,component_type,src,args.override_username);\n",
    "else:\n",
    "    print(str(z));\n",
    "    sys.exit(-10);\n"
   ]
  },
  {
   "cell_type": "code",
   "execution_count": null,
   "metadata": {},
   "outputs": [],
   "source": []
  }
 ],
 "metadata": {
  "kernelspec": {
   "display_name": "Python 3 (ipykernel)",
   "language": "python",
   "name": "python3"
  },
  "language_info": {
   "codemirror_mode": {
    "name": "ipython",
    "version": 3
   },
   "file_extension": ".py",
   "mimetype": "text/x-python",
   "name": "python",
   "nbconvert_exporter": "python",
   "pygments_lexer": "ipython3",
   "version": "3.12.3"
  }
 },
 "nbformat": 4,
 "nbformat_minor": 4
}
