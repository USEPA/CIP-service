{
 "cells": [
  {
   "cell_type": "markdown",
   "metadata": {},
   "source": [
    "## pg_restore cipsrv_owld"
   ]
  },
  {
   "cell_type": "code",
   "execution_count": null,
   "metadata": {},
   "outputs": [],
   "source": [
    "import os,sys,psycopg2,argparse;\n",
    "from ipywidgets import IntProgress,HTML,VBox;\n",
    "from IPython.display import display;\n",
    "from contextlib import closing;\n",
    "parser = argparse.ArgumentParser();\n",
    "parser.add_argument(\"--owld_dumpfiles\"   ,required=False);\n",
    "parser.add_argument(\"--use_existing\"     ,required=False,default=False,action=argparse.BooleanOptionalAction);\n",
    "parser.add_argument(\"--override_username\",required=False);\n",
    "args, _ = parser.parse_known_args();\n",
    "\n",
    "sys.path.append(os.path.join(os.path.expanduser('~'),'notebooks'));\n",
    "import common;\n",
    "\n",
    "s3bk = os.environ['S3_BUCKET'] + 'owld/';\n",
    "# override: s3bk = 'https://edap-ow-data-commons.s3.amazonaws.com/data/cipsrv/owld/';\n",
    "lddk = os.path.join(os.path.expanduser('~'),'loading_dock');\n",
    "dbse = os.environ['POSTGRESQL_DB'];\n",
    "host = os.environ['POSTGRESQL_HOST'];\n",
    "port = os.environ['POSTGRESQL_PORT'];\n",
    "user = 'cipsrv';\n",
    "pswd = os.environ['POSTGRESQL_CIP_PASS'];\n",
    "thds = 2;\n",
    "\n",
    "if args.owld_dumpfiles is None:\n",
    "   srcs = 'WQP:cipsrv_owld_wqp_20250221.dmp,'       \\\n",
    "        + 'ATTAINS:cipsrv_owld_attains_20250126.dmp'\\\n",
    "        + 'NPDES:cipsrv_owld_npdes_20250502.dmp'    \\\n",
    "        + 'FRSPUB:cipsrv_owld_frspub_20250502.dmp';\n",
    "else:\n",
    "   srcs = args.owld_dumpfiles;\n",
    "\n",
    "component_name = 'cipsrv_owld';\n",
    "component_type = 'dataset';\n",
    "ary_src = srcs.split(',');\n",
    "for item in ary_src:\n",
    "    (pref,src)=item.split(':');\n",
    "    print(pref + \" source: \" + s3bk + src);\n"
   ]
  },
  {
   "cell_type": "code",
   "execution_count": null,
   "metadata": {},
   "outputs": [],
   "source": [
    "for item in ary_src:\n",
    "    (pref,src)=item.split(':');\n",
    " \n",
    "    if args.use_existing:\n",
    "        print(\"using existing \" + src);\n",
    "    \n",
    "    else:\n",
    "        z = common.download(\n",
    "            s3  = s3bk\n",
    "           ,src = src\n",
    "           ,ld  = lddk\n",
    "           ,trg = src\n",
    "        );\n",
    "    \n",
    "        if not os.path.exists(os.path.join(lddk,src)):\n",
    "            raise Exception('failed to download dmp file');\n",
    "    \n",
    "        print(\"successfully downloaded \" + src);\n",
    "    "
   ]
  },
  {
   "cell_type": "code",
   "execution_count": null,
   "metadata": {},
   "outputs": [],
   "source": [
    "cs = \"dbname=%s user=%s password=%s host=%s port=%s\" % (\n",
    "     dbse\n",
    "    ,user\n",
    "    ,pswd\n",
    "    ,host\n",
    "    ,port\n",
    ");\n",
    "\n",
    "try:\n",
    "    conn = psycopg2.connect(cs);\n",
    "except:\n",
    "    raise Exception(\"database connection error\");\n",
    "\n",
    "print(\"database is ready\");"
   ]
  },
  {
   "cell_type": "code",
   "execution_count": null,
   "metadata": {},
   "outputs": [],
   "source": [
    "for item in ary_src:\n",
    "    (pref,src)=item.split(':');\n",
    "    \n",
    "    with closing(conn.cursor()) as cursor:\n",
    "        cursor.execute(\"DROP TABLE IF EXISTS cipsrv_owld.\" + pref + \"_attr         CASCADE\");\n",
    "        cursor.execute(\"DROP TABLE IF EXISTS cipsrv_owld.\" + pref + \"_cip          CASCADE\");\n",
    "        cursor.execute(\"DROP TABLE IF EXISTS cipsrv_owld.\" + pref + \"_cip_geo      CASCADE\");\n",
    "        cursor.execute(\"DROP TABLE IF EXISTS cipsrv_owld.\" + pref + \"_control      CASCADE\");\n",
    "        cursor.execute(\"DROP TABLE IF EXISTS cipsrv_owld.\" + pref + \"_huc12        CASCADE\");\n",
    "        cursor.execute(\"DROP TABLE IF EXISTS cipsrv_owld.\" + pref + \"_huc12_geo    CASCADE\");\n",
    "        cursor.execute(\"DROP TABLE IF EXISTS cipsrv_owld.\" + pref + \"_rad_a        CASCADE\");\n",
    "        cursor.execute(\"DROP TABLE IF EXISTS cipsrv_owld.\" + pref + \"_rad_evt2meta CASCADE\");\n",
    "        cursor.execute(\"DROP TABLE IF EXISTS cipsrv_owld.\" + pref + \"_rad_l        CASCADE\");\n",
    "        cursor.execute(\"DROP TABLE IF EXISTS cipsrv_owld.\" + pref + \"_rad_metadata CASCADE\");\n",
    "        cursor.execute(\"DROP TABLE IF EXISTS cipsrv_owld.\" + pref + \"_rad_p        CASCADE\");\n",
    "        cursor.execute(\"DROP TABLE IF EXISTS cipsrv_owld.\" + pref + \"_rad_srccit   CASCADE\");\n",
    "        cursor.execute(\"DROP TABLE IF EXISTS cipsrv_owld.\" + pref + \"_sfid         CASCADE\");\n",
    "        cursor.execute(\"DROP TABLE IF EXISTS cipsrv_owld.\" + pref + \"_src2cip      CASCADE\");\n",
    "        cursor.execute(\"DROP TABLE IF EXISTS cipsrv_owld.\" + pref + \"_src_a        CASCADE\");\n",
    "        cursor.execute(\"DROP TABLE IF EXISTS cipsrv_owld.\" + pref + \"_src_l        CASCADE\");\n",
    "        cursor.execute(\"DROP TABLE IF EXISTS cipsrv_owld.\" + pref + \"_src_p        CASCADE\");\n",
    "        conn.commit();\n",
    "    \n",
    "    print(\"preexisting \" + pref + \" data purged.\");"
   ]
  },
  {
   "cell_type": "code",
   "execution_count": null,
   "metadata": {},
   "outputs": [],
   "source": [
    "for item in ary_src:\n",
    "    (pref,src)=item.split(':');\n",
    "    \n",
    "    z = common.pg_restore(\n",
    "         host\n",
    "        ,port\n",
    "        ,dbse\n",
    "        ,user\n",
    "        ,pswd\n",
    "        ,os.path.join(lddk,src)\n",
    "        ,thds\n",
    "    );\n",
    "    \n",
    "    print(\"pg_restore for \" + pref + \" complete.\");\n",
    "    "
   ]
  },
  {
   "cell_type": "code",
   "execution_count": null,
   "metadata": {},
   "outputs": [],
   "source": [
    "if z[0] == b'':\n",
    "    a = common.upsert_registry(conn,component_name,component_type,src,args.override_username);\n",
    "else:\n",
    "    print(str(z));\n",
    "    sys.exit(-10);\n"
   ]
  },
  {
   "cell_type": "code",
   "execution_count": null,
   "metadata": {},
   "outputs": [],
   "source": []
  }
 ],
 "metadata": {
  "kernelspec": {
   "display_name": "Python 3 (ipykernel)",
   "language": "python",
   "name": "python3"
  },
  "language_info": {
   "codemirror_mode": {
    "name": "ipython",
    "version": 3
   },
   "file_extension": ".py",
   "mimetype": "text/x-python",
   "name": "python",
   "nbconvert_exporter": "python",
   "pygments_lexer": "ipython3",
   "version": "3.12.3"
  }
 },
 "nbformat": 4,
 "nbformat_minor": 4
}
