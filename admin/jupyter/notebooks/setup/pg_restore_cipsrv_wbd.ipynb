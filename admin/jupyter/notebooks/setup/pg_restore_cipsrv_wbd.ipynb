{
 "cells": [
  {
   "cell_type": "markdown",
   "metadata": {},
   "source": [
    "## pg_restore cipsrv_wbd\n",
    "\n",
    "This notebook will download and load (or reload) the cipsrv_wbd schema into a cipsrv database. "
   ]
  },
  {
   "cell_type": "code",
   "execution_count": null,
   "metadata": {},
   "outputs": [],
   "source": [
    "import os,sys,psycopg2,argparse;\n",
    "from ipywidgets import IntProgress,HTML,VBox;\n",
    "from IPython.display import display;\n",
    "from contextlib import closing;\n",
    "parser = argparse.ArgumentParser();\n",
    "parser.add_argument(\"--wbd_dumpfile\"     ,required=False);\n",
    "parser.add_argument(\"--use_existing\"     ,required=False,default=False,action=argparse.BooleanOptionalAction);\n",
    "parser.add_argument(\"--override_username\",required=False);\n",
    "args, _ = parser.parse_known_args();\n",
    "\n",
    "sys.path.append(os.path.join(os.path.expanduser('~'),'notebooks'));\n",
    "import common;\n",
    "\n",
    "s3bk = os.environ['S3_BUCKET'];\n",
    "# override: s3bk = 'https://dmap-data-commons-ow.s3.amazonaws.com/data/cipsrv/';\n",
    "lddk = os.path.join(os.path.expanduser('~'),'loading_dock');\n",
    "dbse = os.environ['POSTGRESQL_DB'];\n",
    "host = os.environ['POSTGRESQL_HOST'];\n",
    "port = os.environ['POSTGRESQL_PORT'];\n",
    "user = 'cipsrv';\n",
    "pswd = os.environ['POSTGRESQL_CIP_PASS'];\n",
    "thds = 2;\n",
    "\n",
    "component_name = 'cipsrv_wbd';\n",
    "component_type = 'dataset';\n",
    "if args.support_dumpfile is None:\n",
    "   src = 'cipsrv_wbd_1.dmp';\n",
    "else:\n",
    "   src = args.support_dumpfile;\n",
    "\n",
    "print(\"source: \" + s3bk + src);"
   ]
  },
  {
   "cell_type": "markdown",
   "metadata": {},
   "source": [
    "Download the dump file from S3"
   ]
  },
  {
   "cell_type": "code",
   "execution_count": null,
   "metadata": {},
   "outputs": [],
   "source": [
    "if args.use_existing:\n",
    "    print(\"using existing \" + src);\n",
    "\n",
    "else:\n",
    "    z = common.download(\n",
    "        s3  = s3bk\n",
    "       ,src = src\n",
    "       ,ld  = lddk\n",
    "       ,trg = src\n",
    "    );\n",
    "\n",
    "    if not os.path.exists(os.path.join(lddk,src)):\n",
    "        raise Exception('failed to download dmp file');\n",
    "\n",
    "    print(\"successfully downloaded \" + src);\n",
    "    "
   ]
  },
  {
   "cell_type": "markdown",
   "metadata": {},
   "source": [
    "Ping the database to make sure connectivity is up"
   ]
  },
  {
   "cell_type": "code",
   "execution_count": null,
   "metadata": {},
   "outputs": [],
   "source": [
    "cs = \"dbname=%s user=%s password=%s host=%s port=%s\" % (\n",
    "     dbse\n",
    "    ,user\n",
    "    ,pswd\n",
    "    ,host\n",
    "    ,port\n",
    ");\n",
    "\n",
    "try:\n",
    "    conn = psycopg2.connect(cs);\n",
    "except:\n",
    "    raise Exception(\"database connection error\");\n",
    "\n",
    "print(\"database is ready\");"
   ]
  },
  {
   "cell_type": "code",
   "execution_count": null,
   "metadata": {},
   "outputs": [],
   "source": [
    "with closing(conn.cursor()) as cursor:\n",
    "    cursor.execute(\"DROP TABLE IF EXISTS cipsrv_support.wbd_hu12_f3     CASCADE\");\n",
    "    cursor.execute(\"DROP TABLE IF EXISTS cipsrv_support.wbd_hu12sp_f3   CASCADE\");\n",
    "    cursor.execute(\"DROP TABLE IF EXISTS cipsrv_support.wbd_hu12_np21   CASCADE\");\n",
    "    cursor.execute(\"DROP TABLE IF EXISTS cipsrv_support.wbd_hu12sp_np21 CASCADE\");\n",
    "    cursor.execute(\"DROP TABLE IF EXISTS cipsrv_support.wbd_hu12_nphr   CASCADE\");\n",
    "    cursor.execute(\"DROP TABLE IF EXISTS cipsrv_support.wbd_hu12sp_nphr CASCADE\");\n",
    "    conn.commit();\n",
    "\n",
    "print(\"preexisting data purged.\");"
   ]
  },
  {
   "cell_type": "markdown",
   "metadata": {},
   "source": [
    "Execute pg_restore command line tool to load the download into the database"
   ]
  },
  {
   "cell_type": "code",
   "execution_count": null,
   "metadata": {},
   "outputs": [],
   "source": [
    "z = common.pg_restore(\n",
    "     host\n",
    "    ,port\n",
    "    ,dbse\n",
    "    ,user\n",
    "    ,pswd\n",
    "    ,os.path.join(lddk,src)\n",
    "    ,thds\n",
    ");\n",
    "\n",
    "print(\"pg_restore complete.\");"
   ]
  },
  {
   "cell_type": "markdown",
   "metadata": {},
   "source": [
    "Inspect the results to verify no serious errors occurred duing import"
   ]
  },
  {
   "cell_type": "code",
   "execution_count": null,
   "metadata": {},
   "outputs": [],
   "source": [
    "if z[0] == b'':\n",
    "    a = common.upsert_registry(conn,component_name,component_type,src,args.override_username);\n",
    "else:\n",
    "    print(str(z));\n",
    "    sys.exit(-10);\n"
   ]
  },
  {
   "cell_type": "code",
   "execution_count": null,
   "metadata": {},
   "outputs": [],
   "source": []
  }
 ],
 "metadata": {
  "kernelspec": {
   "display_name": "Python 3 (ipykernel)",
   "language": "python",
   "name": "python3"
  },
  "language_info": {
   "codemirror_mode": {
    "name": "ipython",
    "version": 3
   },
   "file_extension": ".py",
   "mimetype": "text/x-python",
   "name": "python",
   "nbconvert_exporter": "python",
   "pygments_lexer": "ipython3",
   "version": "3.12.3"
  }
 },
 "nbformat": 4,
 "nbformat_minor": 4
}
